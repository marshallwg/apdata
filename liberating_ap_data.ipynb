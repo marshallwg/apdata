{
 "cells": [
  {
   "cell_type": "markdown",
   "metadata": {},
   "source": [
    "# Changes in the composition of Advanced Placement test-takers over time"
   ]
  },
  {
   "cell_type": "markdown",
   "metadata": {},
   "source": [
    "For a recent project, our team wanted to explore how scores on Advanced Placement tests, and the composition of test-takers, has evolved over time, and whether these changed during the COVID-19 pandemic. Longitudinal AP data, however, must be manually downloaded for each school year. \n",
    "\n",
    "<img src='imgs/apdata.png' width=\"400\" height=\"400\">\n",
    "\n",
    "To circumvent this and to avoid the tedium of manually downloading more than 20 files, I wrote a Stata script that shells to the cURL program to download the .html page, parse it to extract the URLs for each file, and restructure the file to a single-record layout, by student testing group and school year. All data were obtained from the annual [National Summary reports](https://secure-media.collegeboard.org/digitalServices/misc/ap/national-summary-2019.xlsx). I've migrated this project over to a Jupyter notebook using Stata 17's new native IPython integration. "
   ]
  },
  {
   "cell_type": "code",
   "execution_count": 1,
   "metadata": {},
   "outputs": [
    {
     "name": "stdout",
     "output_type": "stream",
     "text": [
      "\n",
      "  ___  ____  ____  ____  ____ ©\n",
      " /__    /   ____/   /   ____/      17.0\n",
      "___/   /   /___/   /   /___/       MP—Parallel Edition\n",
      "\n",
      " Statistics and Data Science       Copyright 1985-2021 StataCorp LLC\n",
      "                                   StataCorp\n",
      "                                   4905 Lakeway Drive\n",
      "                                   College Station, Texas 77845 USA\n",
      "                                   800-STATA-PC        https://www.stata.com\n",
      "                                   979-696-4600        stata@stata.com\n",
      "\n",
      "Stata license: Single-user 4-core  perpetual\n",
      "Serial number: 501706316772\n",
      "  Licensed to: Marshall Garland\n",
      "               Gibson Consulting Group\n",
      "\n",
      "Notes:\n",
      "      1. Unicode is supported; see help unicode_advice.\n",
      "      2. More than 2 billion observations are allowed; see help obs_advice.\n",
      "      3. Maximum number of variables is set to 5,000; see help set_maxvar.\n",
      "\n",
      "Running /Users/mgarland/Library/Application Support/Stata/profile.do ...\n",
      "Profile is here:/Users/mgarland/Library/Application Support/Stata\n",
      "Welcome!\n"
     ]
    }
   ],
   "source": [
    "##Stata setup\n",
    "import stata_setup\n",
    "stata_setup.config(\"/Applications/Stata\", \"mp\")"
   ]
  },
  {
   "cell_type": "markdown",
   "metadata": {},
   "source": [
    "## Setting up the local project folder"
   ]
  },
  {
   "cell_type": "code",
   "execution_count": 2,
   "metadata": {},
   "outputs": [
    {
     "name": "stdout",
     "output_type": "stream",
     "text": [
      "\n"
     ]
    }
   ],
   "source": [
    "%%stata -qui\n",
    "discard\n",
    "macro drop _all\n",
    "set trace off\n",
    "preamble, rootf(/Users/mgarland/Documents/) clientf(GitHub) base(apdata) ///\n",
    "\tsub(syntax logs imgs final raw converted csv website) ///\n",
    "\tmkdir log logpath(logs) logname(1_exploring_ap_data) ///\n",
    "\tscheme(plotplainblind_mwg) clear\n",
    "graph set window fontface default\n",
    "\n",
    "/*\n",
    "## Directory structure for the AP website\n",
    "Main path:\n",
    "https://research.collegeboard.org/programs/ap/data/archived/\n",
    "Download path:\n",
    "https://research.collegeboard.org/programs/ap/data/archived/ap-2016 <--note that in some years, the last page is indexed with just the year. \n",
    "File location: https://secure-media.collegeboard.org/digitalServices/misc/ap/national-summary-2016.xls\n",
    "*/\n",
    "\n",
    "//Additional globals\n",
    "global url=\"https://research.collegeboard.org/programs/ap/data/archived/\"\n",
    "global url2=\"https://research.collegeboard.org/programs/ap/data/participation/ap-2020\"\n",
    "if c(os)==\"MacOSX\" | c(os)==\"Unix\" {\n",
    "\tglobal shell \"shell\"\n",
    "\tglobal curl \"${shell} curl\"\n",
    "\tglobal wget \"${shell} wget\"\n",
    "}\n",
    "\n",
    "global date_time `\"`=subinstr(\"`:di %tc (clock(\"`c(current_date)' `c(current_time)'\", \"DMYhms\"))'\", \":\", \"_\", .)'\"'\n",
    "global date `\"`=subinstr(\"`:di %td (date(\"`c(current_date)'\", \"DMY\"))'\", \":\", \"_\", .)'\"'\n",
    "global outputfile \"${csv}ap_national_report_data.xlsx\"\n",
    "global step1=0 //1 to repeat the html download (step 1)\n",
    "global step2=0 //1 to clean the files harvested from step1\n",
    "global step3=0 //1 to re-download the .xlsx files\n",
    "global step4=0 //consolidate annual xlsx files into a single workbook\n",
    "global step5=0 //cleanup the final Stata .dta file\n",
    "global fyear=2002 //first year of data\n",
    "global lyear=2020 //last year of data\n",
    "global sub=\"ap-\"\n",
    "global txtfile \"${website}/ap_page_data\""
   ]
  },
  {
   "cell_type": "markdown",
   "metadata": {},
   "source": [
    "## Step 1: Downloading the separate .html pages for each test year and saving as .txt files"
   ]
  },
  {
   "cell_type": "code",
   "execution_count": 3,
   "metadata": {},
   "outputs": [
    {
     "name": "stdout",
     "output_type": "stream",
     "text": [
      "\n"
     ]
    }
   ],
   "source": [
    "%%stata -qui\n",
    "//Downloading\n",
    "//Shelling to CURL to download html page and parse for all available downloads.\n",
    "cd \"${website}\"\n",
    "if ${step1}==1 {\n",
    "\tquietly rmfiles, folder(\"${website}\") match(\"*.txt\")\t\n",
    "\tlocal cnt=0\n",
    "\tnumlist \"${fyear}/${lyear}\"\n",
    "\tforeach x in `r(numlist)' {\n",
    "\t\tlocal url\n",
    "\t\tif inrange(`x', 2014,2019) local url=\"${url}${sub}`x'\"\n",
    "\t\tif inrange(`x', 2002,2013) local url=\"${url}`x'\"\n",
    "\t\tif `x'==2020 local url=\"${url2}\"\n",
    "\t\tdi in red `\"`url'\"'\n",
    "\t\t${curl} -s -S -o \"${txtfile}_`x'.txt\" `url'\n",
    "\t\tlocal ++cnt\n",
    "\t}\n",
    "\t\n",
    "\tquietly dirlist *.txt\n",
    "\tassert `cnt'==`r(nfiles)'\n",
    "}"
   ]
  },
  {
   "cell_type": "markdown",
   "metadata": {},
   "source": [
    "## Step 2: Parsing the annual .html files to obtain the download URLs"
   ]
  },
  {
   "cell_type": "code",
   "execution_count": 4,
   "metadata": {},
   "outputs": [
    {
     "name": "stdout",
     "output_type": "stream",
     "text": [
      "\n"
     ]
    }
   ],
   "source": [
    "%%stata -qui\n",
    "if ${step2}==1 {\n",
    "    clear\n",
    "    gen strL file=\"\"\n",
    "    gen year=\"\"\n",
    "    numlist \"${fyear}/${lyear}\"\n",
    "    local counter=0\n",
    "    foreach x in `r(numlist)' {\n",
    "        tempname txt\n",
    "        file open `txt' using `\"${txtfile}_`x'.txt\"', read\n",
    "        file read `txt' line\n",
    "        local linenum=0\n",
    "        local stop=0\n",
    "        while `stop'==0 {\n",
    "            file read `txt' line\n",
    "            *di in red `\"Stop: `stop': Line number `linenum', `r(status)', `r(eof)'\"'\n",
    "            if strmatch(upper(`\"`macval(line)'\"'), \"*NATIONA*.XL*\")==1 | strmatch(upper(`\"`macval(line)'\"'), \"*TIONAL*.XLS*\")==1  {\n",
    "                local counter=`counter'+1\t\t\n",
    "                display %4.0f `linenum' %4.0f `counter' _asis `\"  `macval(line)'\"'\n",
    "                local new=_N+1\n",
    "                set obs `new'\n",
    "                replace file=`\"`macval(line)'\"' in `counter'\n",
    "                replace year=\"`x'\" in `counter'\n",
    "            }\n",
    "            local ++linenum\n",
    "            if strmatch(trim(`\"`macval(line)'\"'), \"</html>\")==1 local stop=1\t\t\n",
    "        }\n",
    "        file close `txt'\n",
    "    }\n",
    "\n",
    "    save \"${raw}/ap_website_html_data.dta\", replace   \n",
    "}"
   ]
  },
  {
   "cell_type": "markdown",
   "metadata": {},
   "source": [
    "## Step 3: Cleaning up the .html results and downloading the annual AP data files"
   ]
  },
  {
   "cell_type": "code",
   "execution_count": 5,
   "metadata": {},
   "outputs": [
    {
     "name": "stdout",
     "output_type": "stream",
     "text": [
      "\n"
     ]
    }
   ],
   "source": [
    "%%stata -qui\n",
    "if ${step3}==1 {\n",
    "    use \"${raw}/ap_website_html_data.dta\", clear             \n",
    "    cap drop _*\n",
    "    //Cleaning up the rows\n",
    "    moss file, match(`\"(http[s]?://[_/a-zA-Z0-9\\.\\-]+.xls[x]?)\"') regex\n",
    "    cap drop url\n",
    "    gen url=\"\"\n",
    "    quietly foreach var of varlist _match* {\n",
    "        replace url=`var' if strmatch(upper(`var'), \"*NATIO*\") & mi(url)\n",
    "    }\n",
    "\n",
    "    assert url!=\"\"\n",
    "    keep url year\n",
    "    replace url=trim(url)\n",
    "\n",
    "    cd \"${csv}\"\n",
    "    cap rm \"${outputfile}\"\n",
    "    drop if url==\"\"\n",
    "    local cnt=1\n",
    "    local putcnt=2\n",
    "    quietly forvalues i=1/`=_N' {\n",
    "        di in red \"Now, `=url[`i']', year `=year[`i']'\"\n",
    "        local newfn\n",
    "        local table\n",
    "        local sheetname\t\n",
    "        local newfn \"ap_national_`=year[`i']'.xls\"\n",
    "        local year \"`=year[`i']'\"\n",
    "        ${curl} `=url[`i']' -L --output \"${csv}`newfn'\"\n",
    "        if `i'==`=_N' {\n",
    "            quietly dirlist \"*xls\"\n",
    "            assert `r(nfiles)'==`=_N'\n",
    "        }\n",
    "    }\n",
    "}"
   ]
  },
  {
   "cell_type": "markdown",
   "metadata": {},
   "source": [
    "## Step 4: Consolidating the .xlsx files into a single Excel workbook"
   ]
  },
  {
   "cell_type": "code",
   "execution_count": 6,
   "metadata": {},
   "outputs": [
    {
     "name": "stdout",
     "output_type": "stream",
     "text": [
      "\n"
     ]
    }
   ],
   "source": [
    "%%stata -qui\n",
    "if ${step4}==1{\n",
    "    cd \"${csv}\"\n",
    "    cap rm \"${outputfile}\"\n",
    "    quietly fs *xls\n",
    "    foreach f in `r(files)' {\n",
    "        di in red \"Now, `f'\"\n",
    "        quietly import excel using \"${csv}/`f'\", describe\n",
    "        local sheets=`r(N_worksheet)'\n",
    "        forvalues i=1/`sheets' {\n",
    "            if `\"`=trim(\"`=upper(\"`r(worksheet_`i')'\")'\")'\"'==\"ALL\" {\n",
    "                tokenize \"`f'\", parse(\"_\")\n",
    "                local filename=subinstr(\"`5'\", \".xls\", \"\", .)\n",
    "                preserve\n",
    "                    import excel using \"${csv}/`f'\", sheet(\"`r(worksheet_`i')'\") clear\n",
    "                    drop in 1/4\n",
    "                    export excel using \"${outputfile}\", sheet(\"`filename'\", replace)\n",
    "                restore\n",
    "            }\n",
    "        }\n",
    "    }\n",
    "}"
   ]
  },
  {
   "cell_type": "markdown",
   "metadata": {},
   "source": [
    "## Step 5: Cleaning!"
   ]
  },
  {
   "cell_type": "code",
   "execution_count": 12,
   "metadata": {},
   "outputs": [
    {
     "name": "stdout",
     "output_type": "stream",
     "text": [
      "\n"
     ]
    }
   ],
   "source": [
    "    %%stata -qui\n",
    "if ${step5}==1 {\n",
    "    //Whoo, buddy, this file is a doozy! There are padded columns and rows, and it needs to be reshaped into a single line, per year, for each group. Here goes!\n",
    "    local first=2002\n",
    "    local last=2020\n",
    "    numlist \"`first'/`last'\"\n",
    "    foreach i in `r(numlist)' {\n",
    "    di in red \"Now, `i'\"\t\n",
    "    import excel using \"${outputfile}\", sheet(\"`i'\") clear\n",
    "    missings dropobs *, force\n",
    "    *Removing extraneous rows\n",
    "    tempvar aa\n",
    "    egen `aa'=rowmiss(*)\n",
    "    drop if inrange(`aa', 10, 10000)\n",
    "    *Now, extraneous columns\n",
    "    tempvar aa\n",
    "    gen `aa'=0\n",
    "    replace `aa'=1 if strmatch(A, \"*MEAN*\")\n",
    "    quietly sum `aa'\n",
    "    if `r(max)'==0 {\n",
    "        drop A\n",
    "    }\n",
    "\n",
    "    rename * var_#, renumber\n",
    "    *Now, filling in empty race/ethnicity rows. \n",
    "    keep var_1 var_2 var_3\n",
    "    multitrim var_1 var_2 var_3\n",
    "    carryforward var_1, replace\n",
    "    *Keeping the total row\n",
    "\n",
    "    rename var_1 group\n",
    "    rename var_2 score\n",
    "    rename var_3 n_\n",
    "    drop if strmatch(group, \"*MEAN*\")\n",
    "    replace group=upper(trim(group))\n",
    "    replace group=\"NATIONAL TOTAL\" if group==\"TOTAL\"\t\n",
    "    drop if mi(group)\n",
    "    destring n_, replace ignore(`\"*\"')\n",
    "    quietly compress\t\n",
    "    quietly reshape wide n_, i(group) j(score) string\n",
    "    gen year=`i'\n",
    "    quietly compress\n",
    "    cap drop __*\n",
    "    save \"${converted}ap_race_ethnicity_`i'.dta\", replace\n",
    "    clear\n",
    "    }\n",
    "    //Begin final cleanup!\n",
    "    cd \"${converted}\"\n",
    "    quietly fs ap_race*.dta\n",
    "    append using `r(files)', force\n",
    "    *Consolidating categories\n",
    "    cap drop group2\n",
    "    gen group2=.\n",
    "    replace group2=0 if regexm(group, `\"(AMER IND./ALASK|AMERICAN)\"') //am ind/alask nat\n",
    "    replace group2=1 if regexm(group, `\"(ASIAN|HAWAIIAN)\"') //asian/pac island\n",
    "    replace group2=2 if regexm(group, `\"(HISPANIC|LATINO|MEXICAN|PUERTO)\"') //hispanic/latino\n",
    "    replace group2=3 if regexm(group, `\"(BLACK)\"') //black\n",
    "    replace group2=4 if regexm(group, `\"(WHITE)\"') //white\n",
    "    replace group2=5 if regexm(group, `\"(STATED|TWO|RESPONSE)\"') //other (including two or more, not stated, and other\n",
    "    replace group2=6 if regexm(group, `\"(NATIONAL)\"')\n",
    "    replace group2=5 if group==\"OTHER\"\n",
    "    assert group2!=.\n",
    "    drop group\n",
    "    rename group2 group\n",
    "    collapse (sum) n_*, by(group year)\n",
    "    renvars n_*, postfix(_)\n",
    "    label define group2 0 \"Am. Ind./Alask. Nat.\" 1 \"Asian\" 2 \"Hispanic\" 3 \"Black\" 4 ///\n",
    "    \"White\" 5 \"Other\" 6 \"Total\", modify\n",
    "    label values group group2\n",
    "    tempfile yyy\n",
    "    label save group2 using `yyy', replace\n",
    "    reshape wide n_*, i(year) j(group)\n",
    "    quietly do `yyy'\n",
    "    quietly label list group2\n",
    "    forvalues i=`r(min)'/`r(max)' {\n",
    "\tforeach var of varlist n_*_`i' {\n",
    "\t\ttokenize `var', parse(\"_\")\n",
    "\t\tlocal score\n",
    "\t\tif \"`3'\"!=\"T\" {\n",
    "\t\t\tlocal score=`3'\n",
    "\t\t}\n",
    "\t\telse {\n",
    "\t\t\tlocal score=\"Total test-takers\"\n",
    "\t\t}\n",
    "\t\tlabel variable `var' `\"`:label group2 `i'': `score' (count)\"'\n",
    "\t}\n",
    "                            \n",
    "\tcap drop p_T_`i'\n",
    "\tgen p_T_`i'=(n_T_`i'/n_T_6)*100\n",
    "\tlabel variable p_T_`i' `\"`:label group2 `i'' (percent)\"'\n",
    "\t\n",
    "\t*Now, percentage with a qualifying score.\n",
    "\tcap drop p_qual_score_`i'\n",
    "\tgen p_qual_score_`i'=((n_3_`i'+n_4_`i'+n_5_`i')/n_T_`i')*100\n",
    "\tlabel variable p_qual_score_`i' `\"Percentage with a qualifying score: `:label group2 `i''\"'\n",
    "    }\n",
    "    label variable year \"Testing year\"\n",
    "    compress\n",
    "    cap drop __*\n",
    "    save \"${final}ap_test_data_`first'_`last'.dta\", replace\n",
    "    export excel using \"${final}ap_test_data_`first'_`last'.xlsx\", firstrow(varlabels) replace\n",
    "}                    "
   ]
  },
  {
   "cell_type": "markdown",
   "metadata": {},
   "source": [
    "## Exploring how AP test-taking has changed since 2002\n",
    "The graphing code below is adapated from examples posted on the Stata [TechTips](https://www.techtips.surveydesign.com.au/post/stacked-area-plot\n",
    ") website. "
   ]
  },
  {
   "cell_type": "code",
   "execution_count": 13,
   "metadata": {},
   "outputs": [
    {
     "name": "stdout",
     "output_type": "stream",
     "text": [
      "\n"
     ]
    }
   ],
   "source": [
    "%%stata -qui -nogr\n",
    "use \"${final}ap_test_data_${fyear}_${lyear}.dta\", clear\n",
    "local graph\n",
    "\n",
    "// create the graph\n",
    "cap drop zero\n",
    "cap drop l?\n",
    "gen zero = 0\n",
    "gen l1 = (p_T_0)\n",
    "gen l2 = (p_T_0 + p_T_1)\n",
    "gen l3 = (p_T_0 + p_T_1+p_T_2)\n",
    "gen l4 = (p_T_0 + p_T_1+p_T_2+p_T_3)\n",
    "gen l5 = (p_T_0 + p_T_1+p_T_2+p_T_3+p_T_4)\n",
    "gen l6 = (p_T_0 + p_T_1+p_T_2+p_T_3+p_T_4+p_T_5)\n",
    "\n",
    "sort year\n",
    "quietly sum year\n",
    "global min=`r(min)'\n",
    "global max=`r(max)'\n",
    "// collect the labels for the second y-axis\n",
    "quietly sum p_T_0 if year==${min}\n",
    "local l11: di %5.1f `r(max)'\n",
    "quietly sum p_T_0 if year==${max}\n",
    "local l12: di %5.1f `r(max)'\n",
    "local mid = l1[_N]/2\n",
    "local yaxis `\"`mid' \"Am. Ind.:`l11'%-`l12'%\"\"'\n",
    "\n",
    "quietly sum p_T_1 if year==${min}\n",
    "local l11: di %5.1f `r(max)'\n",
    "quietly sum p_T_1 if year==${max}\n",
    "local l12: di %5.1f `r(max)'\n",
    "local mid = (l2[_N]-l1[_N])/2 + l1[_N]\n",
    "local yaxis `\"`yaxis' `mid' \"Asian:`l11'%-`l12'%\"\"'\n",
    "\n",
    "quietly sum p_T_2 if year==${min}\n",
    "local l11: di %5.1f `r(max)'\n",
    "quietly sum p_T_2 if year==${max}\n",
    "local l12: di %5.1f `r(max)'\n",
    "local mid = (l3[_N]-l2[_N])/2 + l2[_N]\n",
    "local yaxis `\"`yaxis' `mid' \"Hispanic:`l11'%-`l12'%\"\"'\n",
    "\n",
    "quietly sum p_T_3 if year==${min}\n",
    "local l11: di %5.1f `r(max)'\n",
    "quietly sum p_T_3 if year==${max}\n",
    "local l12: di %5.1f `r(max)'\n",
    "local mid = (l4[_N]-l3[_N])/2 + l3[_N]\n",
    "local yaxis `\"`yaxis' `mid' \"Black:`l11'%-`l12'%\"\"'\n",
    "\n",
    "quietly sum p_T_4 if year==${min}\n",
    "local l11: di %5.1f `r(max)'\n",
    "quietly sum p_T_4 if year==${max}\n",
    "local l12: di %5.1f `r(max)'\n",
    "local mid = (l5[_N]-l4[_N])/2 + l4[_N]\n",
    "local yaxis `\"`yaxis' `mid' \"White:`l11'%-`l12'%\"\"'\n",
    "\n",
    "quietly sum p_T_5 if year==${min}\n",
    "local l11: di %5.1f `r(max)'\n",
    "quietly sum p_T_5 if year==${max}\n",
    "local l12: di %5.1f `r(max)'\n",
    "local mid = (100-l5[_N])/2 + l5[_N]\n",
    "local yaxis `\"`yaxis' `mid' \"Other:`l11'%-`l12'%\"\"'\n",
    "\n",
    "local lcolors=\"lwidth(none)\"\n",
    "colorpalette viridis, nograph\n",
    "twoway rarea zero l1 year, color(\"`r(p1)'\") `lcolors' yaxis(1) ||  ///\n",
    "rarea l1 l2 year, yaxis(2)  `lcolors' color(\"`r(p3)'\")  ||  ///\n",
    "rarea l2 l3 year, `lcolors' color(\"`r(p6)'\")  ||            ///\n",
    "rarea l3 l4 year, `lcolors' color(\"`r(p9)'\")    ||            ///\n",
    "rarea l4 l5 year, `lcolors' `lcolors' color(\"`r(p12)'\")    ||            ///\n",
    "rarea l5 p_T_6 year, `lcolors' color(\"`r(p15)'\")               ///\n",
    "ytitle(\"Percentage of all AP exam-takers \")              ///\n",
    "ylab(`yaxis', axis(2) notick) ///\n",
    "xlab(${min}(2)${max}) ///\n",
    "yscale(range(0 100) axis(1))      ///\n",
    "yscale(range(0 100) axis(2) lstyle(none))      ///\n",
    "ytitle(\"\", axis(2))               ///\n",
    "plotregion(margin(zero))          ///\n",
    "aspect(1)                         ///\n",
    "legend(off) ///\n",
    "xline(2019, lcolor(white))\n",
    "graphsout \"${imgs}fig_1\", type(pdf svg) replace\n",
    "\n",
    "local cnt=1\n",
    "local graph\n",
    "local assort=\"plotregion(margin(zero)) legend(off) aspect(1)\"\n",
    "local yscale1=`\"yscale(range(0 100)) ytitle(\"Percentage of AP exams with a qualifying score\")\"'\n",
    "local yscale2=`\"yscale(range(0 100) axis(2) lstyle(none)) ylabel(, notick axis(2)) ytitle(\"\", axis(2))\"'\n",
    "local xlabel=\"xlabel(${min}(2)${max})\"\n",
    "local ylabel=\"ylabel(0(25)100)\"\n",
    "local ltype=\"lpattern(solid)\"\n",
    "local yaxis\n",
    "colorpalette viridis, nograph select(1 3 6 9 12 15)\n",
    "local colors=`\"`r(p)'\"'\n",
    "preserve\n",
    "\tlabvarch p_qual_score_?, after(\":\")\n",
    "\tforvalues i=0/5 {\n",
    "\t\tlocal axis\n",
    "\t\tif `i'==0 local axis=\"yaxis(1)\"\n",
    "\t\tif `i'==1 local axis=\"yaxis(2)\"\n",
    "\t\tquietly sum p_qual_score_`i' if year==${max}\n",
    "\t\tlocal yaxis=`\"`yaxis' `r(max)' \"`:variable label p_qual_score_`i''\"\"'\n",
    "\t\tlocal graph=`\"`graph' (line p_qual_score_`i' year, lcolor(\"`:word `cnt' of `colors''\") `ltype' `axis')\"'\n",
    "\t\tlocal ++cnt\n",
    "\t}\n",
    "\n",
    "\ttwoway `graph', `yscale1' `yscale2' `assort' `xlabel' `ylabel' ///\n",
    "\t\tylab(`yaxis', axis(2))\n",
    "graphsout \"${imgs}fig_2\", type(pdf svg) replace\n",
    "restore\n",
    "\n",
    "local graph \n",
    "cap drop zero\n",
    "cap drop l?\n",
    "gen zero = 0\n",
    "gen l1 = (n_T_0)\n",
    "gen l2 = (n_T_0 + n_T_1)\n",
    "gen l3 = (n_T_0 + n_T_1+n_T_2)\n",
    "gen l4 = (n_T_0 + n_T_1+n_T_2+n_T_3)\n",
    "gen l5 = (n_T_0 + n_T_1+n_T_2+n_T_3+n_T_4)\n",
    "gen l6 = (n_T_0 + n_T_1+n_T_2+n_T_3+n_T_4+n_T_5)\n",
    "\n",
    "sort year\n",
    "// collect the labels for the second y-axis\n",
    "local mid = l1[_N]/2\n",
    "local yaxis `\"`mid' \"Am. Ind.\"\"'\n",
    "\n",
    "local mid = (l2[_N]-l1[_N])/2 + l1[_N]\n",
    "local yaxis `\"`yaxis' `mid' \"Asian\"\"'\n",
    "\n",
    "local mid = (l3[_N]-l2[_N])/2 + l2[_N]\n",
    "local yaxis `\"`yaxis' `mid' \"Hispanic\"\"'\n",
    "\n",
    "local mid = (l4[_N]-l3[_N])/2 + l3[_N]\n",
    "local yaxis `\"`yaxis' `mid' \"Black\"\"'\n",
    "\n",
    "local mid = (l5[_N]-l4[_N])/2 + l4[_N]\n",
    "local yaxis `\"`yaxis' `mid' \"White\"\"'\n",
    "\n",
    "local mid = (l6[_N]-l5[_N])/2 + l5[_N]\n",
    "local yaxis `\"`yaxis' `mid' \"Other\"\"'\n",
    "\n",
    "local lcolors=\"lwidth(none)\"\n",
    "colorpalette viridis, nograph\n",
    "set scheme plotplainblind_mwg\n",
    "twoway rarea zero l1 year, color(\"`r(p1)'\") `lcolors' yaxis(1) ||  ///\n",
    "rarea l1 l2 year, yaxis(2)  `lcolors' color(\"`r(p3)'\")  ||  ///\n",
    "rarea l2 l3 year, `lcolors' color(\"`r(p6)'\")  ||            ///\n",
    "rarea l3 l4 year, `lcolors' color(\"`r(p9)'\")    ||            ///\n",
    "rarea l4 l5 year, `lcolors' `lcolors' color(\"`r(p12)'\")    ||            ///\n",
    "rarea l5 l6 year, `lcolors' color(\"`r(p15)'\")               ///ytitle(\"Percentage of all AP test-takers\")              ///\n",
    "ylab(`yaxis', axis(2)) ///\n",
    "ylab(0(1000000)5000000, format(%9.0fc)) ///\n",
    "xlab(2002(2)2020) ///\n",
    "yscale(range(0 100) axis(1))      ///\n",
    "yscale(range(0 100) axis(2))      ///\n",
    "ytitle(\"\", axis(2))   ///\n",
    "ytitle(\"Total number of AP test-takers\")            ///\n",
    "plotregion(margin(zero))          ///\n",
    "aspect(1)                         ///\n",
    "legend(off) ///\n",
    "xline(2019, lcolor(white))\n",
    "\n",
    "graphsout \"${imgs}fig_3\", type(pdf svg png) replace"
   ]
  },
  {
   "cell_type": "markdown",
   "metadata": {},
   "source": [
    "<img src='imgs/fig_1.svg' width=\"400\" height=\"400\">\n"
   ]
  },
  {
   "cell_type": "markdown",
   "metadata": {},
   "source": [
    "<img src='imgs/fig_2.svg' width=\"400\" height=\"400\">"
   ]
  },
  {
   "cell_type": "markdown",
   "metadata": {},
   "source": [
    "<img src='imgs/fig_3.svg' width=\"400\" height=\"400\">\n"
   ]
  },
  {
   "cell_type": "code",
   "execution_count": null,
   "metadata": {},
   "outputs": [],
   "source": []
  }
 ],
 "metadata": {
  "kernelspec": {
   "display_name": "Python 3",
   "language": "python",
   "name": "python3"
  },
  "language_info": {
   "codemirror_mode": {
    "name": "ipython",
    "version": 3
   },
   "file_extension": ".py",
   "mimetype": "text/x-python",
   "name": "python",
   "nbconvert_exporter": "python",
   "pygments_lexer": "ipython3",
   "version": "3.8.5"
  }
 },
 "nbformat": 4,
 "nbformat_minor": 4
}
